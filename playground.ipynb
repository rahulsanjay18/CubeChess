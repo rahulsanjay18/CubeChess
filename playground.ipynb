{
 "cells": [
  {
   "cell_type": "code",
   "execution_count": 1,
   "metadata": {},
   "outputs": [
    {
     "name": "stdout",
     "output_type": "stream",
     "text": [
      "rd00r0dr/iiiiiiii/00000000/00000000/00000000/00000000/IIIIIIII/RD00R0DR\n",
      "dbpnnpbd/iiiiiiii/00000000/00000000/00000000/00000000/IIIIIIII/DBPNNPBD\n",
      "0pbttbp0/iiiiiiii/00000000/00000000/00000000/00000000/IIIIIIII/0PBTTBP0\n",
      "rntkqtn0/iiiiiiii/00000000/00000000/00000000/00000000/IIIIIIII/RNTKQTN0\n",
      "0ntqqtnr/iiiiiiii/00000000/00000000/00000000/00000000/IIIIIIII/0NTQQTNR\n",
      "0pbttbp0/iiiiiiii/00000000/00000000/00000000/00000000/IIIIIIII/0PBTTBP0\n",
      "dbpnnpbd/iiiiiiii/00000000/00000000/00000000/00000000/IIIIIIII/DBPNNPBD\n",
      "rd0r00dr/iiiiiiii/00000000/00000000/00000000/00000000/IIIIIIII/RD0R00DR\n"
     ]
    }
   ],
   "source": [
    "from game import Game\n",
    "\n",
    "g = Game(debug=True)\n",
    "print(g.board.display_board())"
   ]
  },
  {
   "cell_type": "code",
   "execution_count": 2,
   "metadata": {},
   "outputs": [
    {
     "name": "stdout",
     "output_type": "stream",
     "text": [
      "d\n",
      "i\n",
      "d\n"
     ]
    }
   ],
   "source": [
    "x = (1,0,0)\n",
    "y = (0,1,0)\n",
    "z = (0,0,1)\n",
    "print(g.board.get(x))\n",
    "print(g.board.get(y))\n",
    "print(g.board.get(z))"
   ]
  },
  {
   "cell_type": "code",
   "execution_count": 3,
   "metadata": {},
   "outputs": [
    {
     "name": "stdout",
     "output_type": "stream",
     "text": [
      "0\n"
     ]
    }
   ],
   "source": [
    "st = (0,1,0)\n",
    "ed = (0,2,0)\n",
    "print(g.board.get(ed))"
   ]
  },
  {
   "cell_type": "code",
   "execution_count": 4,
   "metadata": {},
   "outputs": [
    {
     "name": "stdout",
     "output_type": "stream",
     "text": [
      "rd00r0dr/0iiiiiii/i0000000/00000000/00000000/00000000/IIIIIIII/RD00R0DR\n",
      "dbpnnpbd/iiiiiiii/00000000/00000000/00000000/00000000/IIIIIIII/DBPNNPBD\n",
      "0pbttbp0/iiiiiiii/00000000/00000000/00000000/00000000/IIIIIIII/0PBTTBP0\n",
      "rntkqtn0/iiiiiiii/00000000/00000000/00000000/00000000/IIIIIIII/RNTKQTN0\n",
      "0ntqqtnr/iiiiiiii/00000000/00000000/00000000/00000000/IIIIIIII/0NTQQTNR\n",
      "0pbttbp0/iiiiiiii/00000000/00000000/00000000/00000000/IIIIIIII/0PBTTBP0\n",
      "dbpnnpbd/iiiiiiii/00000000/00000000/00000000/00000000/IIIIIIII/DBPNNPBD\n",
      "rd0r00dr/iiiiiiii/00000000/00000000/00000000/00000000/IIIIIIII/RD0R00DR\n"
     ]
    }
   ],
   "source": [
    "g.make_move_t(st, ed)\n",
    "\n",
    "print(g.board.display_board())"
   ]
  }
 ],
 "metadata": {
  "kernelspec": {
   "display_name": "Python 3.8.10 64-bit",
   "language": "python",
   "name": "python3"
  },
  "language_info": {
   "codemirror_mode": {
    "name": "ipython",
    "version": 3
   },
   "file_extension": ".py",
   "mimetype": "text/x-python",
   "name": "python",
   "nbconvert_exporter": "python",
   "pygments_lexer": "ipython3",
   "version": "3.8.10"
  },
  "orig_nbformat": 4,
  "vscode": {
   "interpreter": {
    "hash": "916dbcbb3f70747c44a77c7bcd40155683ae19c65e1c03b4aa3499c5328201f1"
   }
  }
 },
 "nbformat": 4,
 "nbformat_minor": 2
}
